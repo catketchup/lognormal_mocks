{
 "cells": [
  {
   "cell_type": "code",
   "execution_count": 1,
   "id": "7c4b51fc-55e0-4e8f-bb54-7fa47c00be11",
   "metadata": {},
   "outputs": [],
   "source": [
    "import pytoy as pt\n",
    "import matplotlib.pyplot as plt\n",
    "import numpy as np"
   ]
  },
  {
   "cell_type": "code",
   "execution_count": 2,
   "id": "ea748585-96e4-4747-b3f4-7c7018a79162",
   "metadata": {},
   "outputs": [
    {
     "name": "stdout",
     "output_type": "stream",
     "text": [
      "50\n"
     ]
    }
   ],
   "source": [
    "cl_size = 50\n",
    "norm = 2\n",
    "factor =0.2\n",
    "\n",
    "CPT = pt.Compute()\n",
    "CPT.set(cl_size=cl_size, norm=norm, factor=factor)\n",
    "CPT.get_cl_size()"
   ]
  },
  {
   "cell_type": "code",
   "execution_count": 3,
   "id": "21badabb-8282-47eb-9e7e-53a43845ec08",
   "metadata": {},
   "outputs": [],
   "source": [
    "l = np.arange(0.,cl_size)\n",
    "\n",
    "Cl_in = l"
   ]
  },
  {
   "cell_type": "code",
   "execution_count": 5,
   "id": "680d5aa9-3c84-4e74-95c3-11919dea1627",
   "metadata": {},
   "outputs": [
    {
     "data": {
      "text/plain": [
       "140410982208976"
      ]
     },
     "execution_count": 5,
     "metadata": {},
     "output_type": "execute_result"
    }
   ],
   "source": [
    "Cl_out = CPT.test_return_Cpointer(Cl_in)\n",
    "Cl_out"
   ]
  },
  {
   "cell_type": "code",
   "execution_count": null,
   "id": "877037fd-febf-4f08-821b-c46c2b4b6a2a",
   "metadata": {},
   "outputs": [],
   "source": []
  }
 ],
 "metadata": {
  "kernelspec": {
   "display_name": "Python 3",
   "language": "python",
   "name": "python3"
  },
  "language_info": {
   "codemirror_mode": {
    "name": "ipython",
    "version": 3
   },
   "file_extension": ".py",
   "mimetype": "text/x-python",
   "name": "python",
   "nbconvert_exporter": "python",
   "pygments_lexer": "ipython3",
   "version": "3.8.8"
  }
 },
 "nbformat": 4,
 "nbformat_minor": 5
}
