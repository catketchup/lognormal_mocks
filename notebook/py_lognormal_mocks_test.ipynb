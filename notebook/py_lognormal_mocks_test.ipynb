{
 "cells": [
  {
   "cell_type": "code",
   "execution_count": 1,
   "id": "fa61f71d-1855-495f-9892-db5d0f2ad74b",
   "metadata": {},
   "outputs": [],
   "source": [
    "from pylab import *\n",
    "from healpy import *\n",
    "from py_lognormal_mocks import *"
   ]
  },
  {
   "cell_type": "code",
   "execution_count": 2,
   "id": "9f73c6f1-25eb-4532-bde9-41ffce6d9768",
   "metadata": {},
   "outputs": [
    {
     "name": "stdout",
     "output_type": "stream",
     "text": [
      "[0.00635783]\n"
     ]
    }
   ],
   "source": [
    "seed(329968)\n",
    "\n",
    "\n",
    "Nobj = 20000\n",
    "\n",
    "\n",
    "nside = 512\n",
    "npix = 12*nside**2\n",
    "\n",
    "Nl = 768\n",
    "\n",
    "Ntheta = 2048\n",
    "\n",
    "\n",
    "\n",
    "rhobar = array([float(Nobj)/npix])\n",
    "\n",
    "print(rhobar)"
   ]
  },
  {
   "cell_type": "code",
   "execution_count": 4,
   "id": "713c206f-710b-4cda-802f-aa2fcb96ddad",
   "metadata": {},
   "outputs": [],
   "source": [
    "l = arange(0.,Nl)\n",
    "ClA = (l**0.5 * exp(-l**2/2./320.**2))*1e-10"
   ]
  },
  {
   "cell_type": "code",
   "execution_count": 7,
   "id": "a0c0eca2-48c5-42a0-a1a1-84076645c412",
   "metadata": {},
   "outputs": [
    {
     "data": {
      "text/plain": [
       "(768,)"
      ]
     },
     "execution_count": 7,
     "metadata": {},
     "output_type": "execute_result"
    }
   ],
   "source": [
    "ClA.shape"
   ]
  },
  {
   "cell_type": "code",
   "execution_count": 31,
   "id": "eb50fb4a-feb2-4b9e-9177-20306f36fcc8",
   "metadata": {},
   "outputs": [],
   "source": [
    "Nmaps = rhobar.size\n",
    "Nl = Cl.shape[-1]\n",
    "Cl = array([[ ClA ]])"
   ]
  },
  {
   "cell_type": "code",
   "execution_count": 32,
   "id": "2d9f2dcc-c540-415b-b7e4-b8db49dc7073",
   "metadata": {},
   "outputs": [
    {
     "data": {
      "text/plain": [
       "(1, 1, 768)"
      ]
     },
     "execution_count": 32,
     "metadata": {},
     "output_type": "execute_result"
    }
   ],
   "source": [
    "Cl.shape"
   ]
  },
  {
   "cell_type": "code",
   "execution_count": 33,
   "id": "3b8f1d10-ecee-4aca-aa88-579d75515d92",
   "metadata": {},
   "outputs": [
    {
     "ename": "MemoryError",
     "evalue": "Unable to allocate 1023. TiB for an array with shape (1, 1, 140578910604336) and data type float64",
     "output_type": "error",
     "traceback": [
      "\u001b[0;31m---------------------------------------------------------------------------\u001b[0m",
      "\u001b[0;31mMemoryError\u001b[0m                               Traceback (most recent call last)",
      "\u001b[0;32m<ipython-input-33-a7cad94e0281>\u001b[0m in \u001b[0;36m<module>\u001b[0;34m\u001b[0m\n\u001b[0;32m----> 1\u001b[0;31m \u001b[0mgaussbar\u001b[0m\u001b[0;34m,\u001b[0m \u001b[0mClgauss\u001b[0m \u001b[0;34m=\u001b[0m \u001b[0mlognormal_mocks_stats\u001b[0m\u001b[0;34m(\u001b[0m\u001b[0mrhobar\u001b[0m\u001b[0;34m,\u001b[0m\u001b[0mCl\u001b[0m\u001b[0;34m,\u001b[0m\u001b[0mNtheta\u001b[0m\u001b[0;34m)\u001b[0m\u001b[0;34m\u001b[0m\u001b[0;34m\u001b[0m\u001b[0m\n\u001b[0m",
      "\u001b[0;32mpython/py_lognormal_mocks.pyx\u001b[0m in \u001b[0;36mpy_lognormal_mocks.lognormal_mocks_stats\u001b[0;34m()\u001b[0m\n",
      "\u001b[0;31mMemoryError\u001b[0m: Unable to allocate 1023. TiB for an array with shape (1, 1, 140578910604336) and data type float64"
     ]
    }
   ],
   "source": [
    "gaussbar, Clgauss = lognormal_mocks_stats(rhobar,Cl,Ntheta)"
   ]
  },
  {
   "cell_type": "code",
   "execution_count": 34,
   "id": "f847284a-1a7e-40f8-9c57-189c824284e2",
   "metadata": {},
   "outputs": [
    {
     "data": {
      "text/plain": [
       "768"
      ]
     },
     "execution_count": 34,
     "metadata": {},
     "output_type": "execute_result"
    }
   ],
   "source": [
    "Cl.shape[-1]"
   ]
  },
  {
   "cell_type": "code",
   "execution_count": 35,
   "id": "80351ef1-b287-4691-abca-9e2515e1d9a9",
   "metadata": {},
   "outputs": [
    {
     "data": {
      "text/plain": [
       "(1, 1, 768)"
      ]
     },
     "execution_count": 35,
     "metadata": {},
     "output_type": "execute_result"
    }
   ],
   "source": [
    "np.zeros([Nmaps, Nmaps, Ntheta]).shape\n",
    "np.zeros([Nmaps, Nmaps, Nl]).shape"
   ]
  },
  {
   "cell_type": "code",
   "execution_count": null,
   "id": "04a421bb-bcc5-4af4-b468-17fb514b62d1",
   "metadata": {},
   "outputs": [],
   "source": []
  }
 ],
 "metadata": {
  "kernelspec": {
   "display_name": "Python 3",
   "language": "python",
   "name": "python3"
  },
  "language_info": {
   "codemirror_mode": {
    "name": "ipython",
    "version": 3
   },
   "file_extension": ".py",
   "mimetype": "text/x-python",
   "name": "python",
   "nbconvert_exporter": "python",
   "pygments_lexer": "ipython3",
   "version": "3.8.8"
  }
 },
 "nbformat": 4,
 "nbformat_minor": 5
}
