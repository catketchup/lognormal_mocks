{
 "cells": [
  {
   "cell_type": "code",
   "execution_count": 1,
   "id": "da87da18-24b2-4f2f-9818-a471a8b166e4",
   "metadata": {},
   "outputs": [],
   "source": [
    "import numpy as np\n",
    "from pylab import *\n",
    "from healpy import *"
   ]
  },
  {
   "cell_type": "code",
   "execution_count": 2,
   "id": "36ab5640-db93-4ff4-a994-699d4e99df40",
   "metadata": {},
   "outputs": [
    {
     "name": "stdout",
     "output_type": "stream",
     "text": [
      "[0.00317891 0.63578288]\n"
     ]
    }
   ],
   "source": [
    "seed(329968)\n",
    "\n",
    "nside = 512\n",
    "npix = 12*nside**2\n",
    "\n",
    "Nl = 768\n",
    "l = arange(0.,Nl)\n",
    "\n",
    "# Set up some mean values and power spectra for the fields we want\n",
    "\n",
    "NobjA = 10000\n",
    "NobjB = 2000000\n",
    "\n",
    "rhobarA = float(NobjA)/npix\n",
    "rhobarB = float(NobjB)/npix\n",
    "rhobar = array([rhobarA,rhobarB])\n",
    "\n",
    "print(rhobar)\n",
    "\n",
    "# \n",
    "ClA = l**0.5 * exp(-l**2/2./130.**2) *1e-10\n",
    "ClB = exp(-l**2/2./100.**2) * 1e-9\n",
    "ClAB = 0.5 * sqrt(ClA * ClB)\n",
    "\n",
    "Cl = array([[ ClA, ClAB ],[ClAB, ClB]])\n",
    "\n",
    "\n",
    "Ntheta = 15000"
   ]
  },
  {
   "cell_type": "code",
   "execution_count": 10,
   "id": "e8889b1f-c798-4fdf-aaad-a89d4be5347c",
   "metadata": {},
   "outputs": [
    {
     "data": {
      "text/plain": [
       "768"
      ]
     },
     "execution_count": 10,
     "metadata": {},
     "output_type": "execute_result"
    }
   ],
   "source": [
    "Cl[0,0,:].size"
   ]
  },
  {
   "cell_type": "code",
   "execution_count": 13,
   "id": "51f1968b-a03b-4dee-92a4-51d6b0aa6949",
   "metadata": {},
   "outputs": [
    {
     "data": {
      "text/plain": [
       "768"
      ]
     },
     "execution_count": 13,
     "metadata": {},
     "output_type": "execute_result"
    }
   ],
   "source": [
    "Cl.shape[-1]"
   ]
  },
  {
   "cell_type": "code",
   "execution_count": 5,
   "id": "beaf3b97-22c8-438a-84eb-fc204c44367d",
   "metadata": {},
   "outputs": [
    {
     "data": {
      "text/plain": [
       "2"
      ]
     },
     "execution_count": 5,
     "metadata": {},
     "output_type": "execute_result"
    }
   ],
   "source": [
    "Nmaps = rhobar.size\n",
    "Nmaps"
   ]
  },
  {
   "cell_type": "code",
   "execution_count": 22,
   "id": "4b060820-669a-41d0-b2c6-ef2349e1df1a",
   "metadata": {},
   "outputs": [
    {
     "data": {
      "text/plain": [
       "(2, 2, 768)"
      ]
     },
     "execution_count": 22,
     "metadata": {},
     "output_type": "execute_result"
    }
   ],
   "source": [
    "Cl.shape"
   ]
  },
  {
   "cell_type": "code",
   "execution_count": null,
   "id": "e6eacc4c-b538-4fde-a258-b980fd713c78",
   "metadata": {},
   "outputs": [],
   "source": []
  }
 ],
 "metadata": {
  "kernelspec": {
   "display_name": "Python 3",
   "language": "python",
   "name": "python3"
  },
  "language_info": {
   "codemirror_mode": {
    "name": "ipython",
    "version": 3
   },
   "file_extension": ".py",
   "mimetype": "text/x-python",
   "name": "python",
   "nbconvert_exporter": "python",
   "pygments_lexer": "ipython3",
   "version": "3.8.8"
  }
 },
 "nbformat": 4,
 "nbformat_minor": 5
}
